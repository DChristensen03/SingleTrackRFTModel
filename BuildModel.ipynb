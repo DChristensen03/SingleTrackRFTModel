{
 "cells": [
  {
   "cell_type": "code",
   "execution_count": 292,
   "metadata": {},
   "outputs": [],
   "source": [
    "track_abbreviations = [\"aqu\", \"baq\"]\n",
    "track_name = \"Aqueduct\""
   ]
  },
  {
   "cell_type": "code",
   "execution_count": 293,
   "metadata": {},
   "outputs": [],
   "source": [
    "import pandas as pd\n",
    "\n",
    "data = pd.read_csv(f'Imputed Data\\\\{track_name}.csv')"
   ]
  },
  {
   "cell_type": "code",
   "execution_count": 294,
   "metadata": {},
   "outputs": [],
   "source": [
    "from sklearn.model_selection import GroupShuffleSplit\n",
    "from sklearn.ensemble import RandomForestRegressor\n",
    "\n",
    "X = data.drop(columns=['normalized_position', 'Position'])\n",
    "y = data['normalized_position']\n",
    "groups = data['race_id']\n",
    "\n",
    "# Split the data\n",
    "gss = GroupShuffleSplit(test_size=0.2, random_state=42)\n",
    "train_idx, test_idx = next(gss.split(X, y, groups=groups))\n",
    "\n",
    "X_train, X_test = X.iloc[train_idx], X.iloc[test_idx]\n",
    "y_train, y_test = y.iloc[train_idx], y.iloc[test_idx]\n",
    "\n",
    "# Store the 'odds' column for later use\n",
    "odds_train = X_train['odds']\n",
    "odds_test = X_test['odds']\n",
    "\n",
    "# Drop the 'odds' column from the training and testing datasets\n",
    "X_train = X_train.drop(columns=['odds'])\n",
    "X_test = X_test.drop(columns=['odds'])\n",
    "\n",
    "model = RandomForestRegressor(n_jobs=-1, max_depth=20, max_features=.5, min_samples_leaf=10, n_estimators=300)\n",
    "\n",
    "# Train the model\n",
    "model_results = model.fit(X_train, y_train)"
   ]
  },
  {
   "cell_type": "code",
   "execution_count": 295,
   "metadata": {},
   "outputs": [],
   "source": [
    "predicted_normalized_position = model.predict(X_test)\n",
    "predicted_finish_position = ((predicted_normalized_position * X_test['number_of_run']) / 100)"
   ]
  },
  {
   "cell_type": "code",
   "execution_count": 296,
   "metadata": {},
   "outputs": [],
   "source": [
    "# Extract actual finish positions\n",
    "actual_finish_position = (y_test * X_test['number_of_run']) / 100\n",
    "actual_finish_position = actual_finish_position.astype(int)\n",
    "\n",
    "# Extract and normalize the Odds column\n",
    "odds = odds_test\n",
    "normalized_odds = (odds - odds.min()) / (odds.max() - odds.min()) * 100  # Scale to a range of 0 to 100"
   ]
  },
  {
   "cell_type": "code",
   "execution_count": 297,
   "metadata": {},
   "outputs": [],
   "source": [
    "# Create a DataFrame by concatenating the series\n",
    "results_df = pd.concat([X_test['race_id'], actual_finish_position, predicted_finish_position, odds], axis=1)\n",
    "\n",
    "# Rename the columns for clarity\n",
    "results_df.columns = ['race_id', 'actual_finish_position', 'predicted_finish_position', 'odds']\n"
   ]
  },
  {
   "cell_type": "code",
   "execution_count": 298,
   "metadata": {},
   "outputs": [],
   "source": [
    "# Create another dataframe from results_df that selects the lowest predicted_finish_position for each race_id\n",
    "best_predictions = results_df.groupby('race_id').agg({'predicted_finish_position': 'min'}).reset_index()\n",
    "# Merge the best_predictions dataframe with results_df to get all other columns\n",
    "best_predictions = pd.merge(best_predictions, results_df, on=[\"race_id\", \"predicted_finish_position\"], how='inner')"
   ]
  },
  {
   "cell_type": "code",
   "execution_count": 299,
   "metadata": {},
   "outputs": [
    {
     "name": "stdout",
     "output_type": "stream",
     "text": [
      "Win: 48.36%\n",
      "Place: 74.65%\n",
      "Show: 80.75%\n"
     ]
    }
   ],
   "source": [
    "# Calculate percent of horses that finished 1\n",
    "num_firsts = best_predictions[best_predictions['actual_finish_position'] == 1].shape[0]\n",
    "print(\"Win: {:.2f}%\".format(num_firsts / best_predictions.shape[0] * 100))\n",
    "\n",
    "# Calculate percent of horses that finished 1 or 2\n",
    "num_firsts = best_predictions[best_predictions['actual_finish_position'] <= 2].shape[0]\n",
    "print(\"Place: {:.2f}%\".format(num_firsts / best_predictions.shape[0] * 100))\n",
    "\n",
    "# Calculate percent of horses that finished 1, 2, or 3\n",
    "num_firsts = best_predictions[best_predictions['actual_finish_position'] <= 3].shape[0]\n",
    "print(\"Show: {:.2f}%\".format(num_firsts / best_predictions.shape[0] * 100))"
   ]
  },
  {
   "cell_type": "code",
   "execution_count": 47,
   "metadata": {},
   "outputs": [],
   "source": [
    "import pickle\n",
    "\n",
    "# model_file = f\"Models\\\\{track_name}\\\\{track_name}_Model.pkl\"\n",
    "\n",
    "# with open(model_file, 'wb') as file:  \n",
    "#     pickle.dump(model, file)"
   ]
  },
  {
   "cell_type": "code",
   "execution_count": 53,
   "metadata": {},
   "outputs": [
    {
     "name": "stdout",
     "output_type": "stream",
     "text": [
      "Percentage of times where the top 2 predictions both finished 1 and 2 in any order: 29.58%\n"
     ]
    }
   ],
   "source": [
    "# Get the top two predictions for each race_id\n",
    "top_two_predictions = results_df.groupby('race_id').apply(lambda x: x.nsmallest(2, 'predicted_finish_position')).reset_index(drop=True)\n",
    "\n",
    "# Check if both top two predictions finished in the top two positions\n",
    "top_two_grouped = top_two_predictions.groupby('race_id').filter(lambda x: set(x['actual_finish_position']) == {1, 2})\n",
    "\n",
    "# Calculate the percentage of races where both top two predictions finished in the top two positions\n",
    "percentage_top_two = (top_two_grouped['race_id'].nunique() / results_df['race_id'].nunique()) * 100\n",
    "\n",
    "print(\"Percentage of times where the top 2 predictions both finished 1 and 2 in any order: {:.2f}%\".format(percentage_top_two))"
   ]
  },
  {
   "cell_type": "code",
   "execution_count": 54,
   "metadata": {},
   "outputs": [
    {
     "name": "stdout",
     "output_type": "stream",
     "text": [
      "Percentage of times where the top 3 predictions all finished 1, 2, and 3 in any order: 3.76%\n"
     ]
    }
   ],
   "source": [
    "# Find the top 3 horses in each race_id\n",
    "top_three_predictions = results_df.groupby('race_id').apply(lambda x: x.nsmallest(3, 'predicted_finish_position')).reset_index(drop=True)\n",
    "\n",
    "# Check if all top three predictions finished in the top three positions\n",
    "top_three_grouped = top_three_predictions.groupby('race_id').filter(lambda x: set(x['actual_finish_position']) == {1, 2, 3})\n",
    "\n",
    "# Calculate the percentage of races where both top three predictions finished in the top three positions\n",
    "percentage_top_three = (top_three_grouped['race_id'].nunique() / results_df['race_id'].nunique()) * 100\n",
    "\n",
    "print(\"Percentage of times where the top 3 predictions all finished 1, 2, and 3 in any order: {:.2f}%\".format(percentage_top_three))"
   ]
  },
  {
   "cell_type": "code",
   "execution_count": 58,
   "metadata": {},
   "outputs": [
    {
     "name": "stdout",
     "output_type": "stream",
     "text": [
      "Percentage of times where the top 4 predictions all finished 1, 2, 3, and 4 in any order: 35.21%\n"
     ]
    }
   ],
   "source": [
    "# Find the top 4 horses in each race_id\n",
    "top_four_predictions = results_df.groupby('race_id').apply(lambda x: x.nsmallest(4, 'predicted_finish_position')).reset_index(drop=True)\n",
    "\n",
    "# Check if three of the top four predictions finished in the top three positions\n",
    "top_four_grouped = top_four_predictions.query('actual_finish_position <= 3')\n",
    "\n",
    "# Find the number of race_ids that occur 3 times in top_four_grouped\n",
    "race_id_counts = top_four_grouped['race_id'].value_counts()\n",
    "race_ids_with_three_occurrences = len(race_id_counts[race_id_counts == 3])\n",
    "percentage_top_four_trifecta = (race_ids_with_three_occurrences / top_four_predictions.groupby('race_id').ngroups) * 100\n",
    "\n",
    "print(\"Percentage of times where the top 4 predictions all finished 1, 2, 3, and 4 in any order: {:.2f}%\".format(percentage_top_four_trifecta))"
   ]
  }
 ],
 "metadata": {
  "kernelspec": {
   "display_name": "base",
   "language": "python",
   "name": "python3"
  },
  "language_info": {
   "codemirror_mode": {
    "name": "ipython",
    "version": 3
   },
   "file_extension": ".py",
   "mimetype": "text/x-python",
   "name": "python",
   "nbconvert_exporter": "python",
   "pygments_lexer": "ipython3",
   "version": "3.11.7"
  }
 },
 "nbformat": 4,
 "nbformat_minor": 2
}
