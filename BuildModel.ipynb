{
 "cells": [
  {
   "cell_type": "code",
   "execution_count": 222,
   "metadata": {},
   "outputs": [],
   "source": [
    "track_abbreviation = \"asd\"\n",
    "track_name = \"Assiniboia Downs\""
   ]
  },
  {
   "cell_type": "code",
   "execution_count": 223,
   "metadata": {},
   "outputs": [],
   "source": [
    "import pandas as pd\n",
    "\n",
    "data = pd.read_csv(f'Imputed Data\\\\{track_name}.csv')"
   ]
  },
  {
   "cell_type": "code",
   "execution_count": 224,
   "metadata": {},
   "outputs": [],
   "source": [
    "from sklearn.model_selection import GroupShuffleSplit\n",
    "from sklearn.ensemble import RandomForestRegressor\n",
    "import pandas as pd\n",
    "\n",
    "# Assuming 'race_type' is a column in your data\n",
    "X = data.drop(columns=['normalized_position', 'Position'])\n",
    "y = data['normalized_position']\n",
    "groups = data['race_id']\n",
    "stratify_col = data['race_type']\n",
    "\n",
    "# Initialize GroupShuffleSplit\n",
    "gss = GroupShuffleSplit(n_splits=1, test_size=0.2, random_state=42)\n",
    "\n",
    "# Create empty lists to store train and test indices\n",
    "train_idx = []\n",
    "test_idx = []\n",
    "\n",
    "# Split each race_type group\n",
    "for race_type in stratify_col.unique():\n",
    "    race_type_mask = stratify_col == race_type\n",
    "    X_race_type = X[race_type_mask]\n",
    "    y_race_type = y[race_type_mask]\n",
    "    groups_race_type = groups[race_type_mask]\n",
    "    \n",
    "    if len(X_race_type) < 2:\n",
    "        continue\n",
    "    \n",
    "    if len(X_race_type) > 1 and len(y_race_type) > 1:  # Ensure there are enough samples to split\n",
    "        gss_split = gss.split(X_race_type, y_race_type, groups=groups_race_type)\n",
    "        try:\n",
    "            train_idx_race_type, test_idx_race_type = next(gss_split)\n",
    "        except ValueError:\n",
    "            continue\n",
    "    \n",
    "        train_idx.extend(X_race_type.index[train_idx_race_type])\n",
    "        test_idx.extend(X_race_type.index[test_idx_race_type])\n",
    "\n",
    "# Convert lists to arrays\n",
    "train_idx = pd.Index(train_idx)\n",
    "test_idx = pd.Index(test_idx)\n",
    "\n",
    "X_train, X_test = X.loc[train_idx], X.loc[test_idx]\n",
    "y_train, y_test = y.loc[train_idx], y.loc[test_idx]\n",
    "\n",
    "# Store the 'odds' column for later use\n",
    "odds_train = X_train['odds']\n",
    "odds_test = X_test['odds']\n",
    "\n",
    "# Drop the 'odds' column from the training and testing datasets\n",
    "X_train = X_train.drop(columns=['odds'])\n",
    "X_test = X_test.drop(columns=['odds'])\n",
    "\n",
    "model = RandomForestRegressor(n_jobs=-1, max_depth=20, max_features=.5, min_samples_leaf=10, n_estimators=300)\n",
    "\n",
    "# Train the model\n",
    "model_results = model.fit(X_train, y_train)"
   ]
  },
  {
   "cell_type": "code",
   "execution_count": 225,
   "metadata": {},
   "outputs": [],
   "source": [
    "predicted_normalized_position = model.predict(X_test)\n",
    "predicted_finish_position = ((predicted_normalized_position * X_test['number_of_run']) / 100)"
   ]
  },
  {
   "cell_type": "code",
   "execution_count": 226,
   "metadata": {},
   "outputs": [],
   "source": [
    "# Extract actual finish positions\n",
    "actual_finish_position = (y_test * X_test['number_of_run']) / 100\n",
    "actual_finish_position = actual_finish_position.astype(int)\n",
    "\n",
    "# Extract and normalize the Odds column\n",
    "odds = odds_test\n",
    "normalized_odds = (odds - odds.min()) / (odds.max() - odds.min()) * 100  # Scale to a range of 0 to 100"
   ]
  },
  {
   "cell_type": "code",
   "execution_count": 227,
   "metadata": {},
   "outputs": [],
   "source": [
    "# Create a DataFrame by concatenating the series\n",
    "results_df = pd.concat([X_test['race_id'], actual_finish_position, predicted_finish_position, odds], axis=1)\n",
    "\n",
    "# Rename the columns for clarity\n",
    "results_df.columns = ['race_id', 'actual_finish_position', 'predicted_finish_position', 'odds']\n"
   ]
  },
  {
   "cell_type": "code",
   "execution_count": 228,
   "metadata": {},
   "outputs": [],
   "source": [
    "# Create another dataframe from results_df that selects the lowest predicted_finish_position for each race_id\n",
    "best_predictions = results_df.groupby('race_id').agg({'predicted_finish_position': 'min'}).reset_index()\n",
    "# Merge the best_predictions dataframe with results_df to get all other columns\n",
    "best_predictions = pd.merge(best_predictions, results_df, on=[\"race_id\", \"predicted_finish_position\"], how='inner')"
   ]
  },
  {
   "cell_type": "code",
   "execution_count": 229,
   "metadata": {},
   "outputs": [
    {
     "name": "stdout",
     "output_type": "stream",
     "text": [
      "Win: 39.73%\n",
      "Place: 60.27%\n",
      "Show: 75.34%\n"
     ]
    }
   ],
   "source": [
    "# Calculate percent of horses that finished 1\n",
    "num_firsts = best_predictions[best_predictions['actual_finish_position'] == 1].shape[0]\n",
    "print(\"Win: {:.2f}%\".format(num_firsts / best_predictions.shape[0] * 100))\n",
    "\n",
    "# Calculate percent of horses that finished 1 or 2\n",
    "num_seconds = best_predictions[best_predictions['actual_finish_position'] <= 2].shape[0]\n",
    "print(\"Place: {:.2f}%\".format(num_seconds / best_predictions.shape[0] * 100))\n",
    "\n",
    "# Calculate percent of horses that finished 1, 2, or 3\n",
    "num_thirds = best_predictions[best_predictions['actual_finish_position'] <= 3].shape[0]\n",
    "print(\"Show: {:.2f}%\".format(num_thirds / best_predictions.shape[0] * 100))"
   ]
  },
  {
   "cell_type": "code",
   "execution_count": 230,
   "metadata": {},
   "outputs": [
    {
     "name": "stdout",
     "output_type": "stream",
     "text": [
      "Average ROI per bet: 90.55%\n"
     ]
    }
   ],
   "source": [
    "# Generate win bet ROI per race\n",
    "grouped = best_predictions.groupby('race_id')\n",
    "roi_per_race = grouped.apply(lambda x: (x[x['actual_finish_position'] == 1]['odds'].sum() - len(x)) / len(x) * 100)\n",
    "\n",
    "# Calculate average ROI per bet\n",
    "average_roi_per_bet = roi_per_race.mean()\n",
    "\n",
    "# Print average ROI per bet\n",
    "print(f\"Average ROI per bet: {average_roi_per_bet:.2f}%\")"
   ]
  },
  {
   "cell_type": "code",
   "execution_count": 231,
   "metadata": {},
   "outputs": [],
   "source": [
    "import pickle\n",
    "\n",
    "model_file = f\"Models\\\\{track_name}\\\\{track_name}_Model.pkl\"\n",
    "\n",
    "with open(model_file, 'wb') as file:  \n",
    "    pickle.dump(model, file)"
   ]
  },
  {
   "cell_type": "code",
   "execution_count": 232,
   "metadata": {},
   "outputs": [
    {
     "name": "stdout",
     "output_type": "stream",
     "text": [
      "Percentage of times where the top 2 predictions both finished 1 and 2 in any order: 23.29%\n"
     ]
    }
   ],
   "source": [
    "# Get the top two predictions for each race_id\n",
    "top_two_predictions = results_df.groupby('race_id').apply(lambda x: x.nsmallest(2, 'predicted_finish_position')).reset_index(drop=True)\n",
    "\n",
    "# Check if both top two predictions finished in the top two positions\n",
    "top_two_grouped = top_two_predictions.groupby('race_id').filter(lambda x: set(x['actual_finish_position']) == {1, 2})\n",
    "\n",
    "# Calculate the percentage of races where both top two predictions finished in the top two positions\n",
    "percentage_top_two = (top_two_grouped['race_id'].nunique() / results_df['race_id'].nunique()) * 100\n",
    "\n",
    "print(\"Percentage of times where the top 2 predictions both finished 1 and 2 in any order: {:.2f}%\".format(percentage_top_two))"
   ]
  },
  {
   "cell_type": "code",
   "execution_count": 233,
   "metadata": {},
   "outputs": [
    {
     "name": "stdout",
     "output_type": "stream",
     "text": [
      "Percentage of times where the top 3 predictions all finished 1, 2, and 3 in any order: 2.74%\n"
     ]
    }
   ],
   "source": [
    "# Find the top 3 horses in each race_id\n",
    "top_three_predictions = results_df.groupby('race_id').apply(lambda x: x.nsmallest(3, 'predicted_finish_position')).reset_index(drop=True)\n",
    "\n",
    "# Check if all top three predictions finished in the top three positions\n",
    "top_three_grouped = top_three_predictions.groupby('race_id').filter(lambda x: set(x['actual_finish_position']) == {1, 2, 3})\n",
    "\n",
    "# Calculate the percentage of races where both top three predictions finished in the top three positions\n",
    "percentage_top_three = (top_three_grouped['race_id'].nunique() / results_df['race_id'].nunique()) * 100\n",
    "\n",
    "print(\"Percentage of times where the top 3 predictions all finished 1, 2, and 3 in any order: {:.2f}%\".format(percentage_top_three))"
   ]
  },
  {
   "cell_type": "code",
   "execution_count": 234,
   "metadata": {},
   "outputs": [
    {
     "name": "stdout",
     "output_type": "stream",
     "text": [
      "Percentage of times where the top 4 predictions all finished 1, 2, 3, and 4 in any order: 53.42%\n"
     ]
    }
   ],
   "source": [
    "# Find the top 4 horses in each race_id\n",
    "top_four_predictions = results_df.groupby('race_id').apply(lambda x: x.nsmallest(4, 'predicted_finish_position')).reset_index(drop=True)\n",
    "\n",
    "# Check if three of the top four predictions finished in the top three positions\n",
    "top_four_grouped = top_four_predictions.query('actual_finish_position <= 3')\n",
    "\n",
    "# Find the number of race_ids that occur 3 times in top_four_grouped\n",
    "race_id_counts = top_four_grouped['race_id'].value_counts()\n",
    "race_ids_with_three_occurrences = len(race_id_counts[race_id_counts == 3])\n",
    "percentage_top_four_trifecta = (race_ids_with_three_occurrences / top_four_predictions.groupby('race_id').ngroups) * 100\n",
    "\n",
    "print(\"Percentage of times where the top 4 predictions all finished 1, 2, 3, and 4 in any order: {:.2f}%\".format(percentage_top_four_trifecta))"
   ]
  }
 ],
 "metadata": {
  "kernelspec": {
   "display_name": "base",
   "language": "python",
   "name": "python3"
  },
  "language_info": {
   "codemirror_mode": {
    "name": "ipython",
    "version": 3
   },
   "file_extension": ".py",
   "mimetype": "text/x-python",
   "name": "python",
   "nbconvert_exporter": "python",
   "pygments_lexer": "ipython3",
   "version": "3.11.7"
  }
 },
 "nbformat": 4,
 "nbformat_minor": 2
}
